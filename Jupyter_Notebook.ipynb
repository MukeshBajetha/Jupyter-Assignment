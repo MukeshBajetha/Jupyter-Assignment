{
 "cells": [
  {
   "cell_type": "markdown",
   "metadata": {},
   "source": [
    "<center>\n",
    "    <img src=\"https://cf-courses-data.s3.us.cloud-object-storage.appdomain.cloud/IBMDeveloperSkillsNetwork-DS0105EN-SkillsNetwork/labs/Module2/images/SN_web_lightmode.png\" width=\"300\" alt=\"cognitiveclass.ai logo\">\n",
    "</center>\n"
   ]
  },
  {
   "cell_type": "markdown",
   "metadata": {},
   "source": [
    "#### Add your code below following the instructions given in the course\n"
   ]
  },
  {
   "cell_type": "markdown",
   "metadata": {},
   "source": [
    "# My Jupyter Notebook on IBM Watson Studio"
   ]
  },
  {
   "cell_type": "markdown",
   "metadata": {},
   "source": [
    "**MUKESH SINGH BAJETHA**"
   ]
  },
  {
   "cell_type": "markdown",
   "metadata": {},
   "source": [
    "Sr. Data Analyst"
   ]
  },
  {
   "cell_type": "markdown",
   "metadata": {},
   "source": [
    "*In coming years everything will be looked from the eyes of data, i am interested in data science because want to explore those possibilities by making myself skilled in Data science and its most popular tools*"
   ]
  },
  {
   "cell_type": "markdown",
   "metadata": {},
   "source": [
    "### My code is suppose to display Classic first program : Hello, World!, Finding the maximum number in a list, Generating a random number, Basic string manipulation - converting a string to uppercase ###"
   ]
  },
  {
   "cell_type": "code",
   "execution_count": 3,
   "metadata": {},
   "outputs": [
    {
     "name": "stdout",
     "output_type": "stream",
     "text": [
      "Hello, World!\n"
     ]
    }
   ],
   "source": [
    "print(\"Hello, World!\")"
   ]
  },
  {
   "cell_type": "code",
   "execution_count": 4,
   "metadata": {},
   "outputs": [
    {
     "name": "stdout",
     "output_type": "stream",
     "text": [
      "the maximum number is : 10\n"
     ]
    }
   ],
   "source": [
    "my_list = [3, 7, 2, 10, 5]\n",
    "max_num = max(my_list)\n",
    "print(\"the maximum number is :\", max_num)"
   ]
  },
  {
   "cell_type": "code",
   "execution_count": 9,
   "metadata": {},
   "outputs": [
    {
     "name": "stdout",
     "output_type": "stream",
     "text": [
      "the maximum number is :  6974\n"
     ]
    }
   ],
   "source": [
    "My_newlist = [5000, 758, 65, 458, 2214, 6974, 5688, 5846, 5214, 5365]\n",
    "max_num = max(My_newlist)\n",
    "print(\"the maximum number is : \", max_num)"
   ]
  },
  {
   "cell_type": "code",
   "execution_count": 20,
   "metadata": {},
   "outputs": [
    {
     "name": "stdout",
     "output_type": "stream",
     "text": [
      "the random number is : 93904029\n"
     ]
    }
   ],
   "source": [
    "import random\n",
    "num = random.randint(1, 100000000)\n",
    "print(\"the random number is :\", num)"
   ]
  },
  {
   "cell_type": "code",
   "execution_count": null,
   "metadata": {},
   "outputs": [],
   "source": [
    "m_string = \"Hello, World!\"\n",
    "uppercase_string = my_string.upper()\n",
    "print(\"uppercase string:"
   ]
  },
  {
   "cell_type": "markdown",
   "metadata": {},
   "source": [
    "# My Data Science Program\n",
    "Here's a list for modules\n",
    "\n",
    "1. Data Scientist's Toolkit\n",
    "   - Introduction to Data Science\n",
    "   - Introduction to Python\n",
    "   - Introduction to R language\n",
    "   - Introduction to SQL\n",
    "   - Other Languages\n",
    "2. Open Source Tools\n",
    "   - Introduction to Jupyter Notebook\n",
    "   - Jupyter Karnels\n",
    "   - Introduction to R and RStudio\n",
    "3. IMB Tools for Data Science\n",
    "   - Watson Studios\n",
    "   - Juypeter Notebook in Watson studio\n",
    "   - GitHub and Linking to WS\n",
    "   - SPSS\n",
    "   - IBM Watson OpenScale\n",
    "4. Final Assessment\n",
    "   - Reading\n",
    "   - Practice Excercise\n",
    "   - Final Exam\n",
    "   \n",
    "---\n",
    "\n",
    "## Time Spent on a Module\n",
    "*My timetable*\n",
    "\n",
    "|  Module Name |  Time spent |\n",
    "|--------------|-------------|\n",
    "|Data Scientist's Toolkit| 7 hours|\n",
    "|Open Source Tools| 12 hours|\n",
    "|IMB Tools for Data Science| 40 hours|\n",
    "|Final Assessment| 2 hours|\n",
    "\n",
    "[Here's the link](https://www.coursera.org/professional-certificates/ibm-data-science?)\n",
    "\n",
    "\n",
    "---\n",
    "\n",
    "> \"The best is yet to come\"\n",
    "\n",
    "---"
   ]
  },
  {
   "cell_type": "code",
   "execution_count": null,
   "metadata": {},
   "outputs": [],
   "source": []
  }
 ],
 "metadata": {
  "kernelspec": {
   "display_name": "Python",
   "language": "python",
   "name": "conda-env-python-py"
  },
  "language_info": {
   "codemirror_mode": {
    "name": "ipython",
    "version": 3
   },
   "file_extension": ".py",
   "mimetype": "text/x-python",
   "name": "python",
   "nbconvert_exporter": "python",
   "pygments_lexer": "ipython3",
   "version": "3.7.12"
  }
 },
 "nbformat": 4,
 "nbformat_minor": 4
}
